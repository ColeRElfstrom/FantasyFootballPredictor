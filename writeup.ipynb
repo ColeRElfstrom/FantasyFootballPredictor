{
 "cells": [
  {
   "cell_type": "markdown",
   "metadata": {},
   "source": [
    "## Cole's Fantasy Football Predictor  \n"
   ]
  },
  {
   "cell_type": "markdown",
   "metadata": {},
   "source": [
    "## Idea and Basics:  \n",
    "\n",
    "#### Inspiration:  \n",
    "Fantasy football and the industry that surrounds it have grown exponentially in the past decade, and along with this attempting to predict the performance of players on a week to week basis became increasingly lucrative. I have been on the receiving end of these projections for years, and have always been curious of the methodology behind these predictions, and to make me even more curious almost all past projections are hidden unless you track them yourself every week. Thus, I was inspired to create my own predictor for fantasy scores and began with a larger scope that I will explain below and then fleshed out the app into a somewhat accurate predictor for fantasy scores based on a couple of relevant metrics. Below I will not only touch on how I accomplished this, but also the bumps along the road and how the project evolved from start to finish. "
   ]
  },
  {
   "cell_type": "markdown",
   "metadata": {},
   "source": []
  }
 ],
 "metadata": {
  "language_info": {
   "name": "python"
  },
  "orig_nbformat": 4
 },
 "nbformat": 4,
 "nbformat_minor": 2
}
